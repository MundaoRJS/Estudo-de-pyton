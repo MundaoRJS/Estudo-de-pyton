{
 "cells": [
  {
   "cell_type": "code",
   "execution_count": null,
   "metadata": {},
   "outputs": [],
   "source": [
    "x = min(5, 10, 25)\n",
    "y = max(5, 10, 25)\n",
    "\n",
    "print(x)\n",
    "print(y)\n",
    "\n",
    "a = pow(4, 3)  # exponenciação\n",
    "\n",
    "print(a)\n",
    "\n",
    "b = abs(-7.25) #retorna o valor positivo\n",
    "\n",
    "print(b)\n",
    "from math import sqrt,floor\n",
    "num = int(input())\n",
    "x = sqrt(num)\n",
    "print (' a raiz de {} é {}'.format(num,floor( x)))"
   ]
  },
  {
   "cell_type": "code",
   "execution_count": 15,
   "metadata": {},
   "outputs": [
    {
     "name": "stdout",
     "output_type": "stream",
     "text": [
      "5.385164807134504\n",
      "6\n",
      "6\n",
      "3.141592653589793\n",
      "{\"name\": \"John\", \"age\": 30, \"city\": \"New York\"}\n"
     ]
    }
   ],
   "source": [
    "import math\n",
    "num= int(input())\n",
    "x = math.sqrt(num) # volta a raiz \n",
    "\n",
    "print(x)\n",
    "x = math.ceil(x) # arredonda pro maior valor\n",
    "y = math.floor(x) # arredonda pro menor valor\n",
    "\n",
    "print(x) # returns 2\n",
    "print(y) # returns 1\n",
    "\n",
    "x = math.pi # retorna o valor de pi\n",
    "\n",
    "print(x) \n",
    "\n",
    "\n",
    "import json\n",
    "\n",
    "# a Python object (dict):\n",
    "x = {\n",
    "  \"name\": \"John\",\n",
    "  \"age\": 30,\n",
    "  \"city\": \"New York\"\n",
    "}\n",
    "\n",
    "# convert into JSON:\n",
    "y = json.dumps(x)\n",
    "\n",
    "# the result is a JSON string:\n",
    "print(y)"
   ]
  },
  {
   "cell_type": "code",
   "execution_count": null,
   "metadata": {},
   "outputs": [],
   "source": [
    "thislist = [\"apple\", \"banana\", \"cherry\", \"orange\", \"kiwi\", \"melon\", \"mango\"]\n",
    "print(thislist[2:5]) # retorna os valores da posição 2 até a 4 a posição 5 não entra\n",
    "print('='*50)\n",
    "\n",
    "vet1 = [11, 22, 33]\n",
    "vet2 = [55, 44, 33, 66]\n",
    "vet3= []\n",
    "print(vet1)\n",
    "print('='*50)\n",
    "vet3 = vet1 + vet2\n",
    "print('='*50)\n",
    "print(vet3)\n",
    "print(vet3[-1]) # retorna de trás pra frente\n",
    "print('='*50)\n",
    "thislist = [\"apple\", \"banana\", \"cherry\", \"orange\", \"kiwi\", \"melon\", \"mango\"]\n",
    "print(thislist[:5]) # retorna os valores da posição 0 até a 4 a posição 5 não entra\n",
    "print('='*50)\n",
    "thislist = [\"apple\", \"banana\", \"cherry\", \"orange\", \"kiwi\", \"melon\", \"mango\"]\n",
    "print(thislist[2:]) # retorna os valores  apartir da segunda casa\n",
    "print('='*50)\n",
    "thislist = [\"apple\", \"banana\", \"cherry\", \"orange\", \"kiwi\", \"melon\", \"mango\"]\n",
    "print(thislist[-4:-1])# retorna os valores entre os indices -4 e -1 tirando o -1\n",
    "print('='*50)\n",
    "#PROCURANDO ITENS e adicionando  NA LISTA\n",
    "pro = input('Procure aqui o item: ')\n",
    "thislist = [\"apple\", \"banana\", \"cherry\"]\n",
    "if pro in thislist:\n",
    "    print(\"Yes,\", pro, \"is in the fruits list.\")\n",
    "else:\n",
    "    print(\"No,\", pro, \"isn't in the fruits list.\")\n",
    "    add_fruits = input('Do you want to add some fruits to the list? (S/N)')\n",
    "    if add_fruits.upper() == 'S':\n",
    "        new_fruits = pro\n",
    "        thislist.append(new_fruits)\n",
    "        print( thislist)\n",
    "    else:\n",
    "        print('Okay, have a nice day!')"
   ]
  },
  {
   "cell_type": "code",
   "execution_count": null,
   "metadata": {},
   "outputs": [],
   "source": [
    "n = int(input())\n",
    "print('o antecessor de  {} é {}, e o sucessor dele é  {}'.format(n, n-1,n+1)) # antecessor e  sucessor\n",
    "print('o dobro de {} é {} , e o triplo é {}'.format(n, n*2, n*3)) # dobro e triplo\n",
    "print('e a raiz quadrada dele é {} e pode ser feita dese modo {}'.format(pow(n,(1/2)), n**(1/2))) # raiz\n",
    "\n",
    "nt1 =float(input('nota1'))\n",
    "nt2 =float(input('nota2'))\n",
    "med = (nt1 + nt2)/2\n",
    "if med >= 6 :\n",
    "    print(\"aprovado {:=^10}\".format(med))\n",
    "else:\n",
    "    print('Reprovado {:=^10}'.format(med))\n",
    "\n",
    "sal= float(input())\n",
    "novo_sal = float()\n",
    "novo_sal = sal+(sal*0.15)\n",
    "print('Parabéns você obteve um aumento de 15% no seu salário , antes ele era R${}0, agora ele é de R${}0'.format(sal,novo_sal))\n",
    "\n",
    "###################Tabuada###################\n",
    "nt = int(input('Qual a tabuada que vc deseja imprimir?'))\n",
    "print('{} x 0 ={}'.format(nt,nt*0))\n",
    "print('{} x 1 ={}'.format(nt,nt*1))\n",
    "print('{} x 2 ={}'.format(nt,nt*2))\n",
    "print('{} x 3 ={}'.format(nt,nt*3))\n",
    "print('{} x 4 ={}'.format(nt,nt*4))\n",
    "print('{} x 5 ={}'.format(nt,nt*5))\n",
    "print('{} x 6 ={}'.format(nt,nt*6))\n",
    "print('{} x 7 ={}'.format(nt,nt*7))\n",
    "print('{} x 8 ={}'.format(nt,nt*8))\n",
    "print('{} x 9 ={}'.format(nt,nt*9))\n",
    "print('{} x 10 ={}'.format(nt,nt*10))\n",
    "\n",
    "\n",
    "################Tabuada com laço de repetição################\n",
    "\n",
    "n = int(input())\n",
    "mult= 0 \n",
    "while mult <=10:\n",
    "    print('{} x {} ={}'.format(n,mult, n*mult))\n",
    "    mult = mult+1\n",
    "#################calculando temperatura#######################\n",
    "c= float(input())\n",
    "\n",
    "f=((c *9)/5) + 32\n",
    "print(f)\n",
    "\n",
    "##################--calculo km--###############################\n",
    "q_km = float(input('Qantos km vc andou ?'))\n",
    "q_dias= int(input('Por quantos dias vc alugou o carro?'))\n",
    "km=0.15\n",
    "carro = 60\n",
    "tot = (q_dias * carro)+(q_km*km)\n",
    "print('O valor total é de R${:.2f}'.format(tot))"
   ]
  },
  {
   "cell_type": "code",
   "execution_count": 123,
   "metadata": {},
   "outputs": [
    {
     "name": "stdout",
     "output_type": "stream",
     "text": [
      "3\n",
      "o valor digitado foi 16.0 e sua porção inteira é 16 \n",
      "o angulo de 30.0 tem o seno de 0.50 , o cosseno de 0.87 \n",
      "e a tangente de 0.58\n"
     ]
    }
   ],
   "source": [
    "import random\n",
    "x = random.randint(1,10)\n",
    "print(x)\n",
    "\n",
    "import math\n",
    "num = float(input())\n",
    "print ('o valor digitado foi {} e sua porção inteira é {} '.format(num, math.trunc(num)))\n",
    "\n",
    "ang = float(input())\n",
    "sen = math.sin(math.radians(ang))\n",
    "cos = math.cos(math.radians(ang))\n",
    "tg = math.tan(math.radians(ang))\n",
    "print('o angulo de {} tem o seno de {:.2f} , o cosseno de {:.2f} \\ne a tangente de {:.2f}'.format(ang, sen , cos, tg))\n"
   ]
  },
  {
   "cell_type": "code",
   "execution_count": 9,
   "metadata": {},
   "outputs": [
    {
     "name": "stdout",
     "output_type": "stream",
     "text": [
      "maria\n"
     ]
    }
   ],
   "source": [
    "from random import choice ,shuffle\n",
    "n1= str(input())\n",
    "n2= str(input())\n",
    "n3= str(input())\n",
    "n4= str(input())\n",
    "lista = [n1,n2,n3,n4]\n",
    "esc = choice(lista) #sortear\n",
    "#emb = shuffle(lista) #embaralhar\n",
    "#print(lista)\n",
    "print(esc)"
   ]
  },
  {
   "cell_type": "code",
   "execution_count": 11,
   "metadata": {},
   "outputs": [
    {
     "name": "stdout",
     "output_type": "stream",
     "text": [
      "a soma de 5 + 4 = 9\n",
      "seja bem vindo Raimundo             !\n",
      "=====================================\n",
      "seja bem vindo       Raimundo       !\n",
      "=====================================\n",
      "seja bem vindo             Raimundo !\n",
      "=====================================\n",
      "seja bem vindo Raimundo             !\n",
      "=====================================\n",
      "seja bem vindo ======Raimundo====== !\n",
      "=====================================\n",
      "a raiz quadrada de \n",
      " 5 é 2.24\n",
      "=====================================\n"
     ]
    }
   ],
   "source": [
    "n1= int(input())\n",
    "n2= int(input())\n",
    "s = int\n",
    "s= n1 + n2\n",
    "print( 'a soma de {} + {} = {}'.format(n1, n2, s))\n",
    "\n",
    "nom = input('qual o seu nome ?')\n",
    "\n",
    "print('seja bem vindo {:20} !'.format( nom))\n",
    "print('='*37)\n",
    "print('seja bem vindo {:^20} !'.format( nom))\n",
    "print('='*37)\n",
    "print('seja bem vindo {:>20} !'.format( nom))\n",
    "print('='*37)\n",
    "print('seja bem vindo {:<20} !'.format( nom))\n",
    "print('='*37)\n",
    "print('seja bem vindo {:=^20} !'.format( nom))\n",
    "print('='*37)\n",
    "print ('a raiz quadrada de \\n {} é {:.2f}'.format(n1,n1**(1/2))) # escolhendo quantidade de casas decimais\n",
    "print('='*37)"
   ]
  },
  {
   "cell_type": "code",
   "execution_count": 13,
   "metadata": {},
   "outputs": [
    {
     "name": "stdout",
     "output_type": "stream",
     "text": [
      "[[1, 3], [8, 5]]\n"
     ]
    }
   ],
   "source": [
    "m1 = [[1,3], [1,0]]\n",
    "m2 = [[0,0], [7,5]]\n",
    "\n",
    "def soma (m1, m2):\n",
    "    matc=[]\n",
    "    for i in range(len(m1)):\n",
    "        tut=[]\n",
    "        for j in range(len(m1[i])):\n",
    "            tut.append(m1[i][j]+ m2[i][j])\n",
    "        matc.append(tut)\n",
    "    return matc\n",
    "\n",
    "matc = soma(m1, m2)\n",
    "print(matc)\n"
   ]
  },
  {
   "cell_type": "code",
   "execution_count": null,
   "metadata": {},
   "outputs": [],
   "source": [
    "####################--calculadora--#####################\n",
    "\n",
    "dig1=float(input())\n",
    "op=str(input())\n",
    "dig2=float(input())\n",
    "#soma= float\n",
    "#subtração= float\n",
    "#multiplicação= float\n",
    "#divisão= float\n",
    "if op == \"+\":\n",
    "    soma = dig1+ dig2\n",
    "    print(soma)\n",
    "elif op == \"-\":\n",
    "    subtração= dig1-dig2\n",
    "    print(subtração)\n",
    "elif op == \"*\":\n",
    "    multiplicação= dig1*dig2\n",
    "    print(multiplicação)\n",
    "elif op == \"/\":\n",
    "    divisão= dig1/dig2\n",
    "    print(divisão)\n",
    "else :\n",
    "    print('ERRO')\n",
    "   \n"
   ]
  },
  {
   "cell_type": "code",
   "execution_count": 26,
   "metadata": {},
   "outputs": [
    {
     "name": "stdout",
     "output_type": "stream",
     "text": [
      "[[15, 18], [20, 22]]\n"
     ]
    }
   ],
   "source": [
    "lista_principal = []\n",
    "l1 =[5,7], [8,9]\n",
    "l2 =[10,11], [12,13]\n",
    "for i in range(len(l1)):\n",
    "    lista = []\n",
    "    for j in range(len(l1[i])):\n",
    "        lista.append(l1[i][j] + l2[i][j])\n",
    "    lista_principal.append(lista)\n",
    "    \n",
    "print(lista_principal)"
   ]
  },
  {
   "cell_type": "code",
   "execution_count": 4,
   "metadata": {},
   "outputs": [
    {
     "name": "stdout",
     "output_type": "stream",
     "text": [
      "seu nome é True\n"
     ]
    }
   ],
   "source": [
    "cidade= str(input(\"em que cidade vc nasceu ?\")).strip() # strip para tirar os espaços do inicio e do final \n",
    "print(cidade[:5].upper() == 'SANTO')\n",
    "\n",
    "nome= str(input(\"digite seu nome\")).strip()\n",
    "print('seu nome é {}'.format('SILVA' in nome.upper())) # in operador do python que aqui está vendo se a palavra silva está dentro da string nome  \n"
   ]
  },
  {
   "cell_type": "code",
   "execution_count": 12,
   "metadata": {},
   "outputs": [
    {
     "name": "stdout",
     "output_type": "stream",
     "text": [
      "Jogador 1 colocou tesoura e o jogador 2 colocou pedra\n",
      "Jogador 2 ganhou!!!\n",
      "Jogador 1 colocou papel e o jogador 2 colocou tesoura\n",
      "Jogador 2 ganhou!!!\n",
      "Jogador 1 colocou papel e o jogador 2 colocou pedra\n",
      "Jogador 1 ganhou!!!\n",
      "Jogador 1 colocou papel e o jogador 2 colocou tesoura\n",
      "Jogador 2 ganhou!!!\n",
      "Obrigado por jogar!\n"
     ]
    }
   ],
   "source": [
    "import random\n",
    "\n",
    "pergunta = input('Deseja jogar? [s/n]').lower()\n",
    "while pergunta == 's':\n",
    "    quantidade_de_rodadas = int(input('Quantas rodadas você pretende jogar? '))\n",
    "    a = 0\n",
    "    while a < quantidade_de_rodadas:\n",
    "        lista1 = ['pedra', 'papel', 'tesoura']\n",
    "        lista2 = ['pedra', 'papel', 'tesoura']\n",
    "        jogador1 = random.choice(lista1)\n",
    "        jogador2 = random.choice(lista2)\n",
    "        if jogador1 == 'pedra' and jogador2 == 'tesoura':\n",
    "            print('Jogador 1 colocou {} e o jogador 2 colocou {}\\nJogador 1 ganhou!!!'.format(jogador1, jogador2))\n",
    "        elif jogador1 == 'tesoura' and jogador2 == 'pedra':\n",
    "            print('Jogador 1 colocou {} e o jogador 2 colocou {}\\nJogador 2 ganhou!!!'.format(jogador1, jogador2))\n",
    "        elif jogador1 == 'papel' and jogador2 == 'tesoura':\n",
    "            print('Jogador 1 colocou {} e o jogador 2 colocou {}\\nJogador 2 ganhou!!!'.format(jogador1, jogador2))\n",
    "        elif jogador1 == 'tesoura' and jogador2 == 'papel':\n",
    "            print('Jogador 1 colocou {} e o jogador 2 colocou {}\\nJogador 1 ganhou!!!'.format(jogador1, jogador2))\n",
    "        elif jogador1 == 'pedra' and jogador2 == 'papel':\n",
    "            print('Jogador 1 colocou {} e o jogador 2 colocou {}\\nJogador 2 ganhou!!!'.format(jogador1, jogador2))\n",
    "        elif jogador1 == 'papel' and jogador2 == 'pedra':\n",
    "            print('Jogador 1 colocou {} e o jogador 2 colocou {}\\nJogador 1 ganhou!!!'.format(jogador1, jogador2))\n",
    "        elif jogador1 == 'papel' and jogador2 == 'tesoura':\n",
    "            print('Jogador 1 colocou {} e o jogador 2 colocou {}\\nJogador 2 ganhou!!!'.format(jogador1, jogador2))\n",
    "        elif jogador1 == jogador2:\n",
    "            print('Empate')\n",
    "        else:\n",
    "            print('Erro, fim de jogo')\n",
    "        a += 1\n",
    "    pergunta = input('Deseja jogar novamente? [s/n]').lower()\n",
    "print('Obrigado por jogar!')"
   ]
  }
 ],
 "metadata": {
  "kernelspec": {
   "display_name": "Python 3",
   "language": "python",
   "name": "python3"
  },
  "language_info": {
   "codemirror_mode": {
    "name": "ipython",
    "version": 3
   },
   "file_extension": ".py",
   "mimetype": "text/x-python",
   "name": "python",
   "nbconvert_exporter": "python",
   "pygments_lexer": "ipython3",
   "version": "3.11.3"
  },
  "orig_nbformat": 4
 },
 "nbformat": 4,
 "nbformat_minor": 2
}
